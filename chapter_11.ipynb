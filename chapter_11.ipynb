{
 "cells": [
  {
   "cell_type": "markdown",
   "id": "6bfa97cd",
   "metadata": {},
   "source": [
    "## 11.1. Introduction: Dictionaries\n",
    "The compound data types we have studied in detail so far — strings and lists — are sequential collections. This means that the items in the collection are ordered from left to right and they use integers as indices to access the values they contain. This also means that looking for a particular value requires scanning the many items in the list until you find the desired value.\n",
    "\n",
    "Data can sometimes be organized more usefully by associating a key with the value we are looking for. For example, if you are asked for the page number for the start of chapter 5 in a large textbook, you might flip around the book looking for the chapter 5 heading. If the chapter number appears in the header or footer of each page, you might be able to find the page number fairly quickly but it’s generally easier and faster to go to the index page and see that chapter 5 starts on page 78.\n",
    "\n",
    "This sort of direct look up of a value in Python is done with an object called a Dictionary. Dictionaries are a different kind of collection. They are Python’s built-in **mapping** type. A map is an unordered, associative collection. The association, or mapping, is from a **key**, which can be of any immutable type (e.g., the chapter name and number in the analogy above), to a value (the starting page number), which can be any Python data object. You’ll learn how to use these collections in the following chapter."
   ]
  },
  {
   "cell_type": "markdown",
   "id": "7aae56d7",
   "metadata": {},
   "source": [
    "## 11.2. Getting Started with Dictionaries\n",
    "One way to create a dictionary is to start with the empty dictionary and add **key-value pairs**. The empty dictionary is denoted `{}`.\n",
    "\n"
   ]
  },
  {
   "cell_type": "code",
   "execution_count": 1,
   "id": "36657e0d",
   "metadata": {},
   "outputs": [
    {
     "name": "stdout",
     "output_type": "stream",
     "text": [
      "{'one': 'uno', 'two': 'dos', 'three': 'tres'}\n"
     ]
    }
   ],
   "source": [
    "eng2sp = {}\n",
    "eng2sp['one'] = 'uno'\n",
    "eng2sp['two'] = 'dos'\n",
    "eng2sp['three'] = 'tres'\n",
    "print(eng2sp)"
   ]
  },
  {
   "cell_type": "code",
   "execution_count": 2,
   "id": "b5fa5a8a",
   "metadata": {},
   "outputs": [
    {
     "name": "stdout",
     "output_type": "stream",
     "text": [
      "dos\n"
     ]
    }
   ],
   "source": [
    "value = eng2sp['two']\n",
    "print(value)"
   ]
  },
  {
   "cell_type": "markdown",
   "id": "b6124d56",
   "metadata": {},
   "source": [
    "## 11.3. Dictionary Operations\n",
    "The `del` statement removes a key-value pair from a dictionary. For example, the following dictionary contains the names of various fruits and the number of each fruit in stock. If someone buys all of the pears, we can remove the entry from the dictionary."
   ]
  },
  {
   "cell_type": "code",
   "execution_count": 4,
   "id": "9cf77644",
   "metadata": {},
   "outputs": [
    {
     "data": {
      "text/plain": [
       "{'apples': 430, 'bananas': 312, 'oranges': 525}"
      ]
     },
     "execution_count": 4,
     "metadata": {},
     "output_type": "execute_result"
    }
   ],
   "source": [
    "inventory = {'apples': 430, 'bananas': 312, 'oranges': 525, 'pears': 217}\n",
    "del inventory['pears']\n",
    "inventory"
   ]
  },
  {
   "cell_type": "code",
   "execution_count": 5,
   "id": "3d72491d",
   "metadata": {},
   "outputs": [
    {
     "data": {
      "text/plain": [
       "{'apples': 430, 'bananas': 312, 'oranges': 525, 'pears': 0}"
      ]
     },
     "execution_count": 5,
     "metadata": {},
     "output_type": "execute_result"
    }
   ],
   "source": [
    "inventory = {'apples': 430, 'bananas': 312, 'oranges': 525, 'pears': 217}\n",
    "inventory['pears'] = 0\n",
    "inventory"
   ]
  },
  {
   "cell_type": "markdown",
   "id": "2a61f0ae",
   "metadata": {},
   "source": [
    "Setting the value associated with pears to `0` has a different effect than removing the key-value pair entirely with `del`."
   ]
  },
  {
   "cell_type": "markdown",
   "id": "8ca131ba",
   "metadata": {},
   "source": [
    "Similarily, a new shipment of 200 bananas arriving could be handled like this. Notice that there are now 512 bananas— the dictionary has been modified. Note also that the `len` function also works on dictionaries. It returns the number of key-value pairs."
   ]
  },
  {
   "cell_type": "code",
   "execution_count": 8,
   "id": "cf1938c6",
   "metadata": {},
   "outputs": [
    {
     "name": "stdout",
     "output_type": "stream",
     "text": [
      "{'apples': 430, 'bananas': 512, 'oranges': 525, 'pears': 217}\n",
      "4\n"
     ]
    }
   ],
   "source": [
    "inventory = {'apples': 430, 'bananas': 312, 'oranges': 525, 'pears': 217}\n",
    "inventory['bananas'] = inventory['bananas'] + 200\n",
    "print(inventory)\n",
    "print(len(inventory))"
   ]
  },
  {
   "cell_type": "markdown",
   "id": "9edd7d45",
   "metadata": {},
   "source": [
    "## 11.4. Dictionary Methods\n"
   ]
  },
  {
   "cell_type": "markdown",
   "id": "58a8ac52",
   "metadata": {},
   "source": [
    "keys ------ Returns a view of the keys in the dictionary\n",
    "\n",
    "values ------ Returns a view of the values in the dictionary\n",
    "\n",
    "items ------ Returns a view of the key-value pairs in the dictionary\n",
    "\n",
    "get (parameters: key) ------ Returns the value associated with key; None otherwise\n",
    "\n",
    "get (parameters: key, alt) ------ Returns the value associated with key; alt otherwise\n",
    "\n"
   ]
  },
  {
   "cell_type": "markdown",
   "id": "54e7b1ef",
   "metadata": {},
   "source": [
    "## 11.4.1 Iterating over Dictionaries\n",
    "There are three ways to iterate over the contents of a dictionary. Let’s take a moment to examine them.\n",
    "\n",
    "The first technique involves iterating over the keys of the dictionary using the `keys` method. The keys method returns a collection of the `keys` in the dictionary."
   ]
  },
  {
   "cell_type": "code",
   "execution_count": 9,
   "id": "b7314be9",
   "metadata": {},
   "outputs": [
    {
     "name": "stdout",
     "output_type": "stream",
     "text": [
      "Got key apples which maps to value 430\n",
      "Got key bananas which maps to value 312\n",
      "Got key pears which maps to value 217\n",
      "Got key oranges which maps to value 525\n",
      "['apples', 'bananas', 'pears', 'oranges']\n",
      "apples\n"
     ]
    }
   ],
   "source": [
    "inventory = {'apples': 430, 'bananas': 312, 'pears': 217, 'oranges': 525}\n",
    "\n",
    "for akey in inventory.keys():     # the order in which we get the keys is not defined\n",
    "    print(\"Got key\", akey, \"which maps to value\", inventory[akey])\n",
    "\n",
    "ks = list(inventory.keys())       # Make a list of all of the keys\n",
    "print(ks)\n",
    "print(ks[0])                      # Display the first key"
   ]
  },
  {
   "cell_type": "markdown",
   "id": "811a2dc2",
   "metadata": {},
   "source": [
    "If you want to visit the keys in alphabetic order, you must use the **sorted** function to produce a sorted collection of keys, like this:"
   ]
  },
  {
   "cell_type": "code",
   "execution_count": null,
   "id": "c863d4f2",
   "metadata": {},
   "outputs": [],
   "source": [
    "for akey in sorted(inventory.keys()):"
   ]
  },
  {
   "cell_type": "markdown",
   "id": "75bed5e7",
   "metadata": {},
   "source": [
    "It’s so common to iterate over the keys in a dictionary that you can omit the `keys` method call in the `for` loop — iterating over a dictionary implicitly iterates over its keys."
   ]
  },
  {
   "cell_type": "code",
   "execution_count": 10,
   "id": "484adcfa",
   "metadata": {},
   "outputs": [
    {
     "name": "stdout",
     "output_type": "stream",
     "text": [
      "Got key apples\n",
      "Got key bananas\n",
      "Got key oranges\n",
      "Got key pears\n"
     ]
    }
   ],
   "source": [
    "inventory = {'apples': 430, 'bananas': 312, 'oranges': 525, 'pears': 217}\n",
    "\n",
    "for k in inventory:\n",
    "    print(\"Got key\", k)\n"
   ]
  },
  {
   "cell_type": "markdown",
   "id": "3e7e589d",
   "metadata": {},
   "source": [
    "The `values` method returns a collection of the values in the dictionary. Here’s an example that displays a list of the values:"
   ]
  },
  {
   "cell_type": "code",
   "execution_count": 11,
   "id": "b016b449",
   "metadata": {},
   "outputs": [
    {
     "name": "stdout",
     "output_type": "stream",
     "text": [
      "[430, 312, 525, 217]\n",
      "Got 430\n",
      "Got 312\n",
      "Got 525\n",
      "Got 217\n"
     ]
    }
   ],
   "source": [
    "inventory = {'apples': 430, 'bananas': 312, 'oranges': 525, 'pears': 217}\n",
    "\n",
    "print(list(inventory.values()))\n",
    "\n",
    "for v in inventory.values():\n",
    "    print(\"Got\", v)"
   ]
  },
  {
   "cell_type": "markdown",
   "id": "633b8900",
   "metadata": {},
   "source": [
    "The `items` method returns a collection of tuples containing each key and its associated value. Take a look at this example that iterates over the dictionary using the `items` method:"
   ]
  },
  {
   "cell_type": "code",
   "execution_count": 12,
   "id": "c8eaf127",
   "metadata": {},
   "outputs": [
    {
     "name": "stdout",
     "output_type": "stream",
     "text": [
      "[('apples', 430), ('bananas', 312), ('oranges', 525), ('pears', 217)]\n",
      "Got apples that maps to 430\n",
      "Got bananas that maps to 312\n",
      "Got oranges that maps to 525\n",
      "Got pears that maps to 217\n"
     ]
    }
   ],
   "source": [
    "inventory = {'apples': 430, 'bananas': 312, 'oranges': 525, 'pears': 217}\n",
    "\n",
    "print(list(inventory.items()))\n",
    "\n",
    "for k, v in inventory.items():\n",
    "    print(\"Got\", k, \"that maps to\", v)\n"
   ]
  },
  {
   "cell_type": "markdown",
   "id": "9b1d8be7",
   "metadata": {},
   "source": [
    "## 11.4.2. Safely Retrieving Values\n",
    "Looking up a value in a dictionary is a potentially dangerous operation. When using the `[]` operator to access a key, if the key is not present, a runtime error occurs. There are two ways to deal with this problem.\n",
    "\n",
    "The first approach is to use the `in` and `not in` operators, which can test if a key is in the dictionary:"
   ]
  },
  {
   "cell_type": "code",
   "execution_count": 13,
   "id": "ceed6e82",
   "metadata": {},
   "outputs": [
    {
     "name": "stdout",
     "output_type": "stream",
     "text": [
      "True\n",
      "False\n",
      "312\n"
     ]
    }
   ],
   "source": [
    "inventory = {'apples': 430, 'bananas': 312, 'oranges': 525, 'pears': 217}\n",
    "print('apples' in inventory)\n",
    "print('cherries' in inventory)\n",
    "\n",
    "if 'bananas' in inventory:\n",
    "    print(inventory['bananas'])\n",
    "else:\n",
    "    print(\"We have no bananas\")"
   ]
  },
  {
   "cell_type": "markdown",
   "id": "20d65759",
   "metadata": {},
   "source": [
    "The second approach is to use the `get` method. `get` retrieves the value associated with a key, similar to the `[]` operator. The important difference is that `get` will not cause a runtime error if the key is not present. It will instead return the value `None`. There exists a variation of `get` that allows a second parameter that serves as an **alternative return value** in the case where the key is not present. This can be seen in the final example below. In this case, since “cherries” is not a key, `get` returns 0 (instead of None)."
   ]
  },
  {
   "cell_type": "code",
   "execution_count": 14,
   "id": "e83b9dac",
   "metadata": {},
   "outputs": [
    {
     "name": "stdout",
     "output_type": "stream",
     "text": [
      "430\n",
      "None\n",
      "0\n"
     ]
    }
   ],
   "source": [
    "inventory = {'apples': 430, 'bananas': 312, 'oranges': 525, 'pears': 217}\n",
    "\n",
    "print(inventory.get(\"apples\"))\n",
    "print(inventory.get(\"cherries\"))\n",
    "\n",
    "print(inventory.get(\"cherries\",0))"
   ]
  },
  {
   "cell_type": "markdown",
   "id": "6449e433",
   "metadata": {},
   "source": [
    "## 11.5. Aliasing & Copying\n",
    "Because dictionaries are mutable, you need to be aware of aliasing (as we saw with lists). Whenever two variables refer to the same dictionary object, changes to one affect the other. For example, `opposites` is a dictionary that contains pairs of opposites."
   ]
  },
  {
   "cell_type": "code",
   "execution_count": 15,
   "id": "076285be",
   "metadata": {},
   "outputs": [
    {
     "name": "stdout",
     "output_type": "stream",
     "text": [
      "True\n",
      "left\n"
     ]
    }
   ],
   "source": [
    "opposites = {'up': 'down', 'right': 'wrong', 'true': 'false'}\n",
    "alias = opposites\n",
    "\n",
    "print(alias is opposites)\n",
    "\n",
    "alias['right'] = 'left'\n",
    "print(opposites['right'])"
   ]
  },
  {
   "cell_type": "markdown",
   "id": "13952277",
   "metadata": {},
   "source": [
    "As you can see from the `is` operator, `alias` and `opposites` refer to the same object."
   ]
  },
  {
   "cell_type": "markdown",
   "id": "afe59b70",
   "metadata": {},
   "source": [
    "If you want to modify a dictionary and keep a copy of the original, use the dictionary `copy` method. Since acopy is a copy of the dictionary, changes to it will not effect the original."
   ]
  },
  {
   "cell_type": "code",
   "execution_count": 16,
   "id": "0af06302",
   "metadata": {},
   "outputs": [],
   "source": [
    "acopy = opposites.copy()\n",
    "acopy['right'] = 'left'    # does not change opposites"
   ]
  },
  {
   "cell_type": "markdown",
   "id": "1352b2d7",
   "metadata": {},
   "source": [
    "## 11.6. Accumulating Multiple Results In a Dictionary\n",
    "You have previously seen the accumulator pattern; it goes through the items in a sequence, updating an accumulator variable each time. Rather than accumulating a single result, it’s possible to accumulate many results. Suppose, for example, we wanted to find out which letters are used most frequently in English.\n",
    "\n",
    "Suppose we had a reasonably long text that we thought was representative of general English usage. For our purposes in the this chapter, we will use the text of the Sherlock Holmes story, “A Study in Scarlet”, by Sir Arthur Conan Doyle. The text actually includes a few lines about the source of the transcription (Project Gutenberg), but those will not materially affect our analyses so we will just leave them in. You can access this text within this chapter with the code `open('scarlet.txt', 'r')`."
   ]
  },
  {
   "cell_type": "code",
   "execution_count": null,
   "id": "5366211d",
   "metadata": {},
   "outputs": [],
   "source": [
    "f = open('scarlet.txt', 'r')\n",
    "txt = f.read()\n",
    "# now txt is one long string containing all the characters\n",
    "t_count = 0 #initialize the accumulator variable\n",
    "for c in txt:\n",
    "    if c == 't':\n",
    "        t_count = t_count + 1   #increment the counter\n",
    "print(\"t: \" + str(t_count) + \" occurrences\")"
   ]
  }
 ],
 "metadata": {
  "kernelspec": {
   "display_name": "Python 3 (ipykernel)",
   "language": "python",
   "name": "python3"
  },
  "language_info": {
   "codemirror_mode": {
    "name": "ipython",
    "version": 3
   },
   "file_extension": ".py",
   "mimetype": "text/x-python",
   "name": "python",
   "nbconvert_exporter": "python",
   "pygments_lexer": "ipython3",
   "version": "3.9.12"
  }
 },
 "nbformat": 4,
 "nbformat_minor": 5
}
