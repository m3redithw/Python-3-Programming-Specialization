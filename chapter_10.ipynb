{
 "cells": [
  {
   "cell_type": "markdown",
   "id": "ef0cdb60",
   "metadata": {},
   "source": [
    "## 10.1 Introduction: Working with Data Files\n",
    "open --- open(filename, 'r') --- Open a file called filename and use if for reading. This will return a reference to a file object\n",
    "\n",
    "open --- open(filename, 'w') --- Open a file called filename and use if for writing. This will also return a reference to a file object.\n",
    "\n",
    "close --- filevariable.close() --- File use is complete.\n"
   ]
  },
  {
   "cell_type": "markdown",
   "id": "6ec63ea0",
   "metadata": {},
   "source": [
    "## 10.2. Reading a File\n",
    "As an example, suppose we have a text file called olympics.txt that contains the data representing about olympians across different years. The contents of the file are shown at the bottom of the page.\n",
    "\n",
    "To open this file, we would call the open function. The variable, fileref, now holds a reference to the file object returned by open. When we are finished with the file, we can close it by using the close method. After the file is closed any further attempts to use fileref will result in an error."
   ]
  },
  {
   "cell_type": "markdown",
   "id": "d628f080",
   "metadata": {},
   "source": [
    "## 10.3. Alternative File Reading Methods"
   ]
  },
  {
   "cell_type": "markdown",
   "id": "02a383f9",
   "metadata": {},
   "source": [
    "write --- filevar.write(astring) --- Add a string to the end of the file. filevar must refer to a file that ahs been opened for writing.\n",
    "\n",
    "read(n) --- filevar.read() --- Read and return a string of n characters, or the entire file as a single strin gif n is not provided.\n",
    "\n",
    "readline(n) --- filevar.readline() --- Read and return the next line of the file with all text up to and including the newline character. If n is provided as a parameter, then only n characters will be returned if the line is longer than n. Note the parameter n is not supported in the browser version of Python, and in fact is rarely used in practice, you can safely ignore it.\n",
    "\n",
    "readlines(n) --- filevar.readlines() --- Returns a list of strings, each representing a single line of the file. If n is not provided then all lines of the file are returned. If n is provided then n characters are read but n is rounded up so that an entire line is returned. Note Like readline readlines ignores the parameter n in the browser."
   ]
  },
  {
   "cell_type": "markdown",
   "id": "2058974c",
   "metadata": {},
   "source": [
    "## 10.4. Iterating over lines in a file\n",
    "We will now use this file as input in a program that will do some data processing. In the program, we will examine each line of the file and print it with some additional text. Because readlines() returns a list of lines of text, we can use the for loop to iterate through each line of the file.\n",
    "\n",
    "A **line** of a file is defined to be a sequence of characters up to and including a special character called the **newline** character. If you evaluate a string that contains a newline character you will see the character represented as \\n. If you print a string that contains a newline you will not see the \\n, you will just see its effects (a carriage return).\n",
    "\n",
    "As the for loop iterates through each line of the file the loop variable will contain the current line of the file as a string of characters. The general pattern for processing each line of a text file is as follows:"
   ]
  },
  {
   "cell_type": "code",
   "execution_count": null,
   "id": "3d16516f",
   "metadata": {},
   "outputs": [],
   "source": [
    "for line in myFile.readlines():\n",
    "    statement1\n",
    "    statement2\n",
    "    ..."
   ]
  },
  {
   "cell_type": "markdown",
   "id": "e4d27521",
   "metadata": {},
   "source": [
    "## 10.5. Finding a File in Filesystem\n",
    "If your file and your Python program are in the same directory you can simply use the filename. For example, with the file hierarchy in the diagram, the file myPythonProgram.py could contain the code open('data1.txt', 'r').\n",
    "\n",
    "If your file and your Python program are in different directories, however, then you need to specify a path. You can think of the filename as the short name for a file, and the path as the full name. Typically, you will specify a relative file path, which says where to find the file to open, relative to the directory where the code is running from. For example, the file myPythonProgram.py could contain the code open('../myData/data2.txt', 'r'). The ../ means to go up one level in the directory structure, to the containing folder (allProjects); myData/ says to descend into the myData subfolder.\n",
    "\n",
    "There is also an option to use an absolute file path. For example, suppose the file structure in the figure is stored on a computer in the user’s home directory, /Users/joebob01/myFiles. Then code in any Python program running from any file folder could open data2.txt via open('/Users/joebob01/myFiles/allProjects/myData/data2.txt', 'r'). You can tell an absolute file path because it begins with a /. If you will ever move your programs and data to another computer (e.g., to share them with someone else), it will be much more convenient if your use relative file paths rather than absolute. "
   ]
  },
  {
   "cell_type": "markdown",
   "id": "a68c6822",
   "metadata": {},
   "source": [
    "## 10.6. Using <font color='green'>with</font> for Files"
   ]
  },
  {
   "cell_type": "markdown",
   "id": "b640913c",
   "metadata": {},
   "source": [
    "Now that you have seen and practiced a bit with opening and closing files, there is another mechanism that Python provides for us that cleans up the often forgotten close. Forgetting to close a file does not necessarily cause a runtime error in the kinds of programs you typically write in an introductory programing course. However if you are writing a program that may run for days or weeks at a time that does a lot of file reading and writing you may run into trouble.\n",
    "\n",
    "Python has the notion of a context manager that automates the process of doing common operations at the start of some task, as well as automating certain operations at the end of some task. For reading and writing a file, the normal operation is to open the file and assign it to a variable. At the end of working with a file the common operation is to make sure that file is closed.\n",
    "\n",
    "The Python with statement makes using context managers easy. The general form of a with statement is:"
   ]
  },
  {
   "cell_type": "code",
   "execution_count": null,
   "id": "ad11327a",
   "metadata": {},
   "outputs": [],
   "source": [
    "with <create some object that understands context> as <some name>:\n",
    "    do some stuff with the object\n",
    "    ..."
   ]
  },
  {
   "cell_type": "code",
   "execution_count": null,
   "id": "585fe668",
   "metadata": {},
   "outputs": [],
   "source": [
    "# example\n",
    "fname = 'mydata.txt'\n",
    "with open(fname, 'w') as md:\n",
    "    # md.read()\n",
    "    # md.readlines()\n",
    "    # for lin in md:\n",
    "        # do something with each line\n",
    "    for num in range(10):\n",
    "        md.write(str(num))\n",
    "        md.write('\\n')\n",
    "# continue on with other code"
   ]
  },
  {
   "cell_type": "markdown",
   "id": "41c78a24",
   "metadata": {},
   "source": [
    "When the program exits the with block, the context manager handles the common stuff that normally happens at the end, in our case closing a file."
   ]
  },
  {
   "cell_type": "markdown",
   "id": "46089d87",
   "metadata": {},
   "source": [
    "## 10.7. Recipe for Reading and Processing a File\n",
    "#1. Open the file using with and open.\n",
    "\n",
    "#2. Use .readlines() to get a list of the lines of text in the file.\n",
    "\n",
    "#3. Use a for loop to iterate through the strings in the list, each being one line from the file. On each iteration, process that line of text\n",
    "\n",
    "#4. When you are done extracting data from the file, continue writing your code outside of the indentation. Using with will automatically close the file once the program exits the with block."
   ]
  },
  {
   "cell_type": "code",
   "execution_count": null,
   "id": "f910b141",
   "metadata": {},
   "outputs": [],
   "source": [
    "fname = \"yourfile.txt\"\n",
    "with open(fname, 'r') as fileref:         # step 1\n",
    "    lines = fileref.readlines()           # step 2\n",
    "    for lin in lines:                     # step 3\n",
    "        #some code that references the variable lin\n",
    "#some other code not relying on fileref   # step 4"
   ]
  },
  {
   "cell_type": "markdown",
   "id": "b3112f05",
   "metadata": {},
   "source": [
    "However, this will not be good to use when you are working with large data. Imagine working with a datafile that has 1000 rows of data. It would take a long time to read in all the data and then if you had to iterate over it, even more time would be necessary. This would be a case where programmers prefer another option for efficiency reasons.\n",
    "\n",
    "This option involves iterating over the file itself while still iterating over each line in the file:"
   ]
  },
  {
   "cell_type": "code",
   "execution_count": null,
   "id": "8d7a9ef1",
   "metadata": {},
   "outputs": [],
   "source": [
    "with open(fname, 'r') as fileref:\n",
    " for lin in fileref:\n",
    "     ## some code that uses line as the current line of the file\n",
    "     ## some more code"
   ]
  },
  {
   "cell_type": "markdown",
   "id": "38819b2b",
   "metadata": {},
   "source": [
    "## 10.8. Writing Text Files\n",
    "One of the most commonly performed data processing tasks is to read data from a file, manipulate it in some way, and then write the resulting data out to a new data file to be used for other purposes later. To accomplish this, the open function discussed above can also be used to create a new file prepared for writing.\n",
    "The only difference between opening a file for writing and opening a file for reading is the use of the 'w' flag instead of the 'r' flag as the second parameter.\n",
    "When we open a file for writing, a new, empty file with that name is created and made ready to accept our data. If an existing file has the same name, its contents are overwritten. As before, the function returns a reference to the new file object.\n",
    "\n",
    "The write method allows us to add data to a text file. Recall that text files contain sequences of characters. We usually think of these character sequences as being the lines of the file where each line ends with the newline \\n character. Be very careful to notice that the write method takes one parameter, a string. When invoked, the characters of the string will be added to the end of the file. This means that it is the programmer’s job to include the newline characters as part of the string if desired.\n",
    "\n",
    "Assume that we have been asked to provide a file consisting of all the squared numbers from 1 to 12.\n",
    "\n",
    "First, we will need to open the file. Afterwards, we will iterate through the numbers 1 through 12, and square each one of them. This new number will need to be converted to a string, and then it can be written into the file.\n",
    "\n",
    "The program below solves part of the problem. We first want to make sure that we’ve written the correct code to calculate the square of each number."
   ]
  },
  {
   "cell_type": "code",
   "execution_count": null,
   "id": "1c19a155",
   "metadata": {},
   "outputs": [],
   "source": [
    "for number in range(1, 13):\n",
    "    square = number * number\n",
    "    print(square)"
   ]
  },
  {
   "cell_type": "markdown",
   "id": "676a7bb4",
   "metadata": {},
   "source": [
    "When we run this program, we see the lines of output on the screen. Once we are satisfied that it is creating the appropriate output, the next step is to add the necessary pieces to produce an output file and write the data lines to it. To start, we need to open a new output file by calling the open function, outfile = open(\"squared_numbers.txt\",'w'), using the 'w' flag. We can choose any file name we like. If the file does not exist, it will be created. However, if the file does exist, it will be reinitialized as empty and you will lose any previous contents.\n",
    "\n",
    "Once the file has been created, we just need to call the write method passing the string that we wish to add to the file. In this case, the string is already being printed so we will just change the print into a call to the write method. However, there is an additional step to take, since the write method can only accept a string as input. We’ll need to convert the number to a string. Then, we just need to add one extra character to the string. The newline character needs to be concatenated to the end of the line. The entire line now becomes outfile.write(str(square)+ '\\n'). The print statement automatically outputs a newline character after whatever text it outputs, but the write method does not do that automatically. We also need to close the file when we are done."
   ]
  },
  {
   "cell_type": "code",
   "execution_count": null,
   "id": "0e272253",
   "metadata": {},
   "outputs": [],
   "source": [
    "filename = \"squared_numbers.txt\"\n",
    "outfile = open(filename, \"w\")\n",
    "\n",
    "for number in range(1, 13):\n",
    "    square = number * number\n",
    "    outfile.write(str(square) + \"\\n\")\n",
    "\n",
    "outfile.close()\n",
    "\n",
    "infile = open(filename, \"r\")\n",
    "print(infile.read()[:10])\n",
    "infile.close()"
   ]
  },
  {
   "cell_type": "markdown",
   "id": "1fe79065",
   "metadata": {},
   "source": [
    "## 10.9. CSV Format\n",
    "CSV stands for Comma Separated Values. If you print out tabular data in CSV format, it can be easily imported into other programs like Excel, Google spreadsheets, or a statistics package (R, stata, SPSS, etc.).\n",
    "\n",
    "For example, we can make a file with the following contents. If you save it as a file name grades.csv, then you could import it into one of those programs. The first line gives the column names and the later lines each give the data for one row."
   ]
  },
  {
   "cell_type": "code",
   "execution_count": null,
   "id": "9b169002",
   "metadata": {},
   "outputs": [],
   "source": [
    "Name,score,grade\n",
    "Jamal,98,A+\n",
    "Eloise,87,B+\n",
    "Madeline,99,A+\n",
    "Wei,94,A"
   ]
  },
  {
   "cell_type": "markdown",
   "id": "bb217a01",
   "metadata": {},
   "source": [
    "## 10.10. Reading in data from a CSV File\n",
    "We are able to read in CSV files the same way we have with other text files. Because of the standardized structure of the data, there is a common pattern for processing it. To practice this, we will be using data about olympic events.\n",
    "\n",
    "Typically, CSV files will have a header as the first line, which contains column names. Then, each following row in the file will contain data that corresponds to the appropriate columns.\n",
    "\n",
    "All file methods that we have mentioned - read, readline, and readlines, and simply iterating over the file object itself - will work on CSV files. In our examples, we will iterate over the lines. Because the values on each line are separated with commas, we can use the .split() method to parse each line into a collection of separate value."
   ]
  },
  {
   "cell_type": "markdown",
   "id": "113aecb7",
   "metadata": {},
   "source": [
    "## 10.11 Writing data to a CSV File\n"
   ]
  },
  {
   "cell_type": "markdown",
   "id": "4d7765cb",
   "metadata": {},
   "source": [
    "The typical pattern for writing data to a CSV file will be to write a header row and loop through the items in a list, outputting one row for each.\n",
    "\n",
    "Here is a simple example where we first make a list of the multiples of 12 and then write a file that looks like this.\n"
   ]
  },
  {
   "cell_type": "code",
   "execution_count": 1,
   "id": "5a6c0f71",
   "metadata": {},
   "outputs": [
    {
     "data": {
      "text/plain": [
       "Ellipsis"
      ]
     },
     "execution_count": 1,
     "metadata": {},
     "output_type": "execute_result"
    }
   ],
   "source": [
    "1,12\n",
    "2,24\n",
    "3,36\n",
    "..."
   ]
  },
  {
   "cell_type": "code",
   "execution_count": 2,
   "id": "14e18d8a",
   "metadata": {},
   "outputs": [],
   "source": [
    "n = [0] * 12\n",
    "for i in range(1,13):\n",
    "    n[i-1] = i *12\n",
    "outfile = open(\"Multiples of 12\", \"w\")\n",
    "for j in range(0, len(n)):\n",
    "    outfile.write(str(j+1) + ',' + str(n[j]))\n",
    "    # +1 to j since the array starts at 0 and we start counting at 1\n",
    "    outfile.write('\\n')\n",
    "outfile.close()"
   ]
  },
  {
   "cell_type": "markdown",
   "id": "2e348991",
   "metadata": {},
   "source": [
    "Here is a more complex example, where we a have a list of tuples, each representing one Olympian, a subset of the rows and columns from the file we have been reading from."
   ]
  },
  {
   "cell_type": "code",
   "execution_count": null,
   "id": "a6661cff",
   "metadata": {},
   "outputs": [],
   "source": [
    "olympians = [(\"John Aalberg\", 31, \"Cross Country Skiing\"),\n",
    "             (\"Minna Maarit Aalto\", 30, \"Sailing\"),\n",
    "             (\"Win Valdemar Aaltonen\", 54, \"Art Competitions\"),\n",
    "             (\"Wakako Abe\", 18, \"Cycling\")]\n",
    "\n",
    "outfile = open(\"reduced_olympics.csv\", \"w\")\n",
    "# output the header row\n",
    "outfile.write('Name,Age,Sport')\n",
    "outfile.write('\\n')\n",
    "# output each of the rows:\n",
    "for olympian in olympians:\n",
    "    row_string = '{},{},{}'.format(olympian[0], olympian[1], olympian[2])\n",
    "    outfile.write(row_string)\n",
    "    outfile.write('\\n')\n",
    "outfile.close()\n"
   ]
  },
  {
   "cell_type": "markdown",
   "id": "13e3d6b9",
   "metadata": {},
   "source": [
    "There are a few things worth noting in the code above.\n",
    "\n",
    "First, using .format() makes it really clear what we’re doing when we create the variable row_string. We are making a comma separated set of values; the {} curly braces indicated where to substitute in the actual values. The equivalent string concatenation would be very hard to read. An alternative, also clear way to do it would be with the .join method: row_string = ','.join([olympian[0], str(olympian[1]), olympian[2]]).\n",
    "\n",
    "Second, unlike the print statement, remember that the .write() method on a file object does not automatically insert a newline. Instead, we have to explicitly add the character \\n at the end of each line.\n",
    "\n",
    "Third, we have to explicitly refer to each of the elements of olympian when building the string to write. Note that just putting .format(olympian) wouldn’t work because the interpreter would see only one value (a tuple) when it was expecting three values to try to substitute into the string template. Later in the book we will see that python provides an advanced technique for automatically unpacking the three values from the tuple, with .format(*olympian)."
   ]
  }
 ],
 "metadata": {
  "kernelspec": {
   "display_name": "Python 3 (ipykernel)",
   "language": "python",
   "name": "python3"
  },
  "language_info": {
   "codemirror_mode": {
    "name": "ipython",
    "version": 3
   },
   "file_extension": ".py",
   "mimetype": "text/x-python",
   "name": "python",
   "nbconvert_exporter": "python",
   "pygments_lexer": "ipython3",
   "version": "3.9.12"
  }
 },
 "nbformat": 4,
 "nbformat_minor": 5
}
