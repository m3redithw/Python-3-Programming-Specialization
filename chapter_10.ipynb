{
 "cells": [
  {
   "cell_type": "markdown",
   "id": "ef0cdb60",
   "metadata": {},
   "source": [
    "## 10.1 Introduction: Working with Data Files\n",
    "open --- open(filename, 'r') --- Open a file called filename and use if for reading. This will return a reference to a file object\n",
    "\n",
    "open --- open(filename, 'w') --- Open a file called filename and use if for writing. This will also return a reference to a file object.\n",
    "\n",
    "close --- filevariable.close() --- File use is complete.\n"
   ]
  },
  {
   "cell_type": "markdown",
   "id": "6ec63ea0",
   "metadata": {},
   "source": [
    "## 10.2. Reading a File\n",
    "As an example, suppose we have a text file called olympics.txt that contains the data representing about olympians across different years. The contents of the file are shown at the bottom of the page.\n",
    "\n",
    "To open this file, we would call the open function. The variable, fileref, now holds a reference to the file object returned by open. When we are finished with the file, we can close it by using the close method. After the file is closed any further attempts to use fileref will result in an error."
   ]
  },
  {
   "cell_type": "markdown",
   "id": "02a383f9",
   "metadata": {},
   "source": [
    "write --- filevar.write(astring) --- Add a string to the end of the file. filevar must refer to a file that ahs been opened for writing.\n",
    "\n",
    "read(n) --- filevar.read() --- Read and return a string of n characters, or the entire file as a single strin gif n is not provided.\n",
    "\n",
    "readline(n) --- filevar.readline() --- Read and return the next line of the file with all text up to and including the newline character. If n is provided as a parameter, then only n characters will be returned if the line is longer than n. Note the parameter n is not supported in the browser version of Python, and in fact is rarely used in practice, you can safely ignore it.\n",
    "\n",
    "readlines(n) --- filevar.readlines() --- Returns a list of strings, each representing a single line of the file. If n is not provided then all lines of the file are returned. If n is provided then n characters are read but n is rounded up so that an entire line is returned. Note Like readline readlines ignores the parameter n in the browser."
   ]
  },
  {
   "cell_type": "code",
   "execution_count": null,
   "id": "61e82d20",
   "metadata": {},
   "outputs": [],
   "source": []
  },
  {
   "cell_type": "code",
   "execution_count": null,
   "id": "3d16516f",
   "metadata": {},
   "outputs": [],
   "source": []
  },
  {
   "cell_type": "code",
   "execution_count": null,
   "id": "b64a7998",
   "metadata": {},
   "outputs": [],
   "source": []
  },
  {
   "cell_type": "code",
   "execution_count": null,
   "id": "8bc54436",
   "metadata": {},
   "outputs": [],
   "source": []
  },
  {
   "cell_type": "code",
   "execution_count": null,
   "id": "e9fac63e",
   "metadata": {},
   "outputs": [],
   "source": []
  },
  {
   "cell_type": "code",
   "execution_count": null,
   "id": "ad11327a",
   "metadata": {},
   "outputs": [],
   "source": []
  },
  {
   "cell_type": "code",
   "execution_count": null,
   "id": "60bae693",
   "metadata": {},
   "outputs": [],
   "source": []
  },
  {
   "cell_type": "code",
   "execution_count": null,
   "id": "8c9c66be",
   "metadata": {},
   "outputs": [],
   "source": []
  },
  {
   "cell_type": "code",
   "execution_count": null,
   "id": "f910b141",
   "metadata": {},
   "outputs": [],
   "source": []
  }
 ],
 "metadata": {
  "kernelspec": {
   "display_name": "Python 3 (ipykernel)",
   "language": "python",
   "name": "python3"
  },
  "language_info": {
   "codemirror_mode": {
    "name": "ipython",
    "version": 3
   },
   "file_extension": ".py",
   "mimetype": "text/x-python",
   "name": "python",
   "nbconvert_exporter": "python",
   "pygments_lexer": "ipython3",
   "version": "3.9.12"
  }
 },
 "nbformat": 4,
 "nbformat_minor": 5
}
