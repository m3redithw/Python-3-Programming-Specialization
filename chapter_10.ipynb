{
 "cells": [
  {
   "cell_type": "markdown",
   "id": "ef0cdb60",
   "metadata": {},
   "source": [
    "## 10.1 Introduction: Working with Data Files\n",
    "open --- open(filename, 'r') --- Open a file called filename and use if for reading. This will return a reference to a file object\n",
    "\n",
    "open --- open(filename, 'w') --- Open a file called filename and use if for writing. This will also return a reference to a file object.\n",
    "\n",
    "close --- filevariable.close() --- File use is complete.\n"
   ]
  },
  {
   "cell_type": "markdown",
   "id": "6ec63ea0",
   "metadata": {},
   "source": [
    "## 10.2. Reading a File\n",
    "As an example, suppose we have a text file called olympics.txt that contains the data representing about olympians across different years. The contents of the file are shown at the bottom of the page.\n",
    "\n",
    "To open this file, we would call the open function. The variable, fileref, now holds a reference to the file object returned by open. When we are finished with the file, we can close it by using the close method. After the file is closed any further attempts to use fileref will result in an error."
   ]
  },
  {
   "cell_type": "markdown",
   "id": "d628f080",
   "metadata": {},
   "source": [
    "## 10.3. Alternative File Reading Methods"
   ]
  },
  {
   "cell_type": "markdown",
   "id": "02a383f9",
   "metadata": {},
   "source": [
    "write --- filevar.write(astring) --- Add a string to the end of the file. filevar must refer to a file that ahs been opened for writing.\n",
    "\n",
    "read(n) --- filevar.read() --- Read and return a string of n characters, or the entire file as a single strin gif n is not provided.\n",
    "\n",
    "readline(n) --- filevar.readline() --- Read and return the next line of the file with all text up to and including the newline character. If n is provided as a parameter, then only n characters will be returned if the line is longer than n. Note the parameter n is not supported in the browser version of Python, and in fact is rarely used in practice, you can safely ignore it.\n",
    "\n",
    "readlines(n) --- filevar.readlines() --- Returns a list of strings, each representing a single line of the file. If n is not provided then all lines of the file are returned. If n is provided then n characters are read but n is rounded up so that an entire line is returned. Note Like readline readlines ignores the parameter n in the browser."
   ]
  },
  {
   "cell_type": "markdown",
   "id": "2058974c",
   "metadata": {},
   "source": [
    "## 10.4. Iterating over lines in a file\n",
    "We will now use this file as input in a program that will do some data processing. In the program, we will examine each line of the file and print it with some additional text. Because readlines() returns a list of lines of text, we can use the for loop to iterate through each line of the file.\n",
    "\n",
    "A **line** of a file is defined to be a sequence of characters up to and including a special character called the **newline** character. If you evaluate a string that contains a newline character you will see the character represented as \\n. If you print a string that contains a newline you will not see the \\n, you will just see its effects (a carriage return).\n",
    "\n",
    "As the for loop iterates through each line of the file the loop variable will contain the current line of the file as a string of characters. The general pattern for processing each line of a text file is as follows:"
   ]
  },
  {
   "cell_type": "code",
   "execution_count": null,
   "id": "3d16516f",
   "metadata": {},
   "outputs": [],
   "source": [
    "for line in myFile.readlines():\n",
    "    statement1\n",
    "    statement2\n",
    "    ..."
   ]
  },
  {
   "cell_type": "markdown",
   "id": "e4d27521",
   "metadata": {},
   "source": [
    "## 10.5. Finding a File in Filesystem\n",
    "If your file and your Python program are in the same directory you can simply use the filename. For example, with the file hierarchy in the diagram, the file myPythonProgram.py could contain the code open('data1.txt', 'r').\n",
    "\n",
    "If your file and your Python program are in different directories, however, then you need to specify a path. You can think of the filename as the short name for a file, and the path as the full name. Typically, you will specify a relative file path, which says where to find the file to open, relative to the directory where the code is running from. For example, the file myPythonProgram.py could contain the code open('../myData/data2.txt', 'r'). The ../ means to go up one level in the directory structure, to the containing folder (allProjects); myData/ says to descend into the myData subfolder.\n",
    "\n",
    "There is also an option to use an absolute file path. For example, suppose the file structure in the figure is stored on a computer in the user’s home directory, /Users/joebob01/myFiles. Then code in any Python program running from any file folder could open data2.txt via open('/Users/joebob01/myFiles/allProjects/myData/data2.txt', 'r'). You can tell an absolute file path because it begins with a /. If you will ever move your programs and data to another computer (e.g., to share them with someone else), it will be much more convenient if your use relative file paths rather than absolute. "
   ]
  },
  {
   "cell_type": "markdown",
   "id": "a68c6822",
   "metadata": {},
   "source": [
    "## 10.6. Using <font color='green'>with</font> for Files"
   ]
  },
  {
   "cell_type": "markdown",
   "id": "b640913c",
   "metadata": {},
   "source": [
    "Now that you have seen and practiced a bit with opening and closing files, there is another mechanism that Python provides for us that cleans up the often forgotten close. Forgetting to close a file does not necessarily cause a runtime error in the kinds of programs you typically write in an introductory programing course. However if you are writing a program that may run for days or weeks at a time that does a lot of file reading and writing you may run into trouble.\n",
    "\n",
    "Python has the notion of a context manager that automates the process of doing common operations at the start of some task, as well as automating certain operations at the end of some task. For reading and writing a file, the normal operation is to open the file and assign it to a variable. At the end of working with a file the common operation is to make sure that file is closed.\n",
    "\n",
    "The Python with statement makes using context managers easy. The general form of a with statement is:\n",
    "\n"
   ]
  },
  {
   "cell_type": "code",
   "execution_count": null,
   "id": "ad11327a",
   "metadata": {},
   "outputs": [],
   "source": [
    "with <create some object that understands context> as <some name>:\n",
    "    do some stuff with the object\n",
    "    ..."
   ]
  },
  {
   "cell_type": "markdown",
   "id": "41c78a24",
   "metadata": {},
   "source": [
    "When the program exits the with block, the context manager handles the common stuff that normally happens at the end, in our case closing a file."
   ]
  },
  {
   "cell_type": "markdown",
   "id": "46089d87",
   "metadata": {},
   "source": [
    "## 10.7. Recipe for Reading and Processing a File\n",
    "#1. Open the file using with and open.\n",
    "\n",
    "#2. Use .readlines() to get a list of the lines of text in the file.\n",
    "\n",
    "#3. Use a for loop to iterate through the strings in the list, each being one line from the file. On each iteration, process that line of text\n",
    "\n",
    "#4. When you are done extracting data from the file, continue writing your code outside of the indentation. Using with will automatically close the file once the program exits the with block."
   ]
  },
  {
   "cell_type": "code",
   "execution_count": null,
   "id": "f910b141",
   "metadata": {},
   "outputs": [],
   "source": [
    "fname = \"yourfile.txt\"\n",
    "with open(fname, 'r') as fileref:         # step 1\n",
    "    lines = fileref.readlines()           # step 2\n",
    "    for lin in lines:                     # step 3\n",
    "        #some code that references the variable lin\n",
    "#some other code not relying on fileref   # step 4"
   ]
  },
  {
   "cell_type": "markdown",
   "id": "b3112f05",
   "metadata": {},
   "source": [
    "However, this will not be good to use when you are working with large data. Imagine working with a datafile that has 1000 rows of data. It would take a long time to read in all the data and then if you had to iterate over it, even more time would be necessary. This would be a case where programmers prefer another option for efficiency reasons.\n",
    "\n",
    "This option involves iterating over the file itself while still iterating over each line in the file:"
   ]
  },
  {
   "cell_type": "code",
   "execution_count": null,
   "id": "8d7a9ef1",
   "metadata": {},
   "outputs": [],
   "source": [
    "with open(fname, 'r') as fileref:\n",
    " for lin in fileref:\n",
    "     ## some code that uses line as the current line of the file\n",
    "     ## some more code"
   ]
  },
  {
   "cell_type": "code",
   "execution_count": null,
   "id": "d4bee1c8",
   "metadata": {},
   "outputs": [],
   "source": []
  },
  {
   "cell_type": "code",
   "execution_count": null,
   "id": "1c19a155",
   "metadata": {},
   "outputs": [],
   "source": []
  },
  {
   "cell_type": "code",
   "execution_count": null,
   "id": "7e4d17e5",
   "metadata": {},
   "outputs": [],
   "source": []
  }
 ],
 "metadata": {
  "kernelspec": {
   "display_name": "Python 3 (ipykernel)",
   "language": "python",
   "name": "python3"
  },
  "language_info": {
   "codemirror_mode": {
    "name": "ipython",
    "version": 3
   },
   "file_extension": ".py",
   "mimetype": "text/x-python",
   "name": "python",
   "nbconvert_exporter": "python",
   "pygments_lexer": "ipython3",
   "version": "3.9.12"
  }
 },
 "nbformat": 4,
 "nbformat_minor": 5
}
